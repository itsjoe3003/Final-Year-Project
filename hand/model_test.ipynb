{
 "cells": [
  {
   "cell_type": "code",
   "execution_count": 12,
   "id": "9026007a",
   "metadata": {},
   "outputs": [],
   "source": [
    "import joblib\n",
    "import numpy as np\n",
    "from sklearn.metrics import accuracy_score, precision_score, recall_score, f1_score, confusion_matrix, classification_report\n",
    "from sklearn.model_selection import train_test_split"
   ]
  },
  {
   "cell_type": "code",
   "execution_count": 2,
   "id": "c838c021",
   "metadata": {},
   "outputs": [],
   "source": [
    "# data_row = '0.0,0.0,0.13793103448275862,0.30344827586206896,0.31724137931034485,0.5655172413793104,0.47586206896551725,0.7793103448275862,0.503448275862069,1.0,0.6827586206896552,0.2620689655172414,0.8620689655172413,0.31724137931034485,0.6206896551724138,0.2896551724137931,0.5862068965517241,0.2689655172413793,0.696551724137931,0.07586206896551724,0.8758620689655172,0.13793103448275862,0.5862068965517241,0.1310344827586207,0.5793103448275863,0.0896551724137931,0.6827586206896552,-0.1103448275862069,0.8896551724137931,-0.06896551724137931,0.6275862068965518,-0.041379310344827586,0.6,-0.08275862068965517,0.6551724137931034,-0.32413793103448274,0.8068965517241379,-0.2689655172413793,0.6344827586206897,-0.2206896551724138,0.5793103448275863,-0.2413793103448276'"
   ]
  },
  {
   "cell_type": "code",
   "execution_count": 3,
   "id": "d99a8e31",
   "metadata": {},
   "outputs": [],
   "source": [
    "rf_model = joblib.load('keypoint_classifier_rf.joblib')"
   ]
  },
  {
   "cell_type": "code",
   "execution_count": 7,
   "id": "16798d23",
   "metadata": {},
   "outputs": [],
   "source": [
    "\n",
    "dataset = r'keypoint_logs.csv'\n",
    "\n",
    "X_dataset = np.loadtxt(dataset, delimiter=',', dtype='float32', usecols=list(range(1, 43)))\n",
    "y_dataset = np.loadtxt(dataset, delimiter=',', dtype='int32', usecols=(0))\n",
    "X_train, X_test, y_train, y_test = train_test_split(X_dataset, y_dataset, train_size=0.75, random_state=42)"
   ]
  },
  {
   "cell_type": "code",
   "execution_count": 8,
   "id": "37c86697",
   "metadata": {},
   "outputs": [],
   "source": [
    "y_pred = rf_model.predict(X_test)\n"
   ]
  },
  {
   "cell_type": "code",
   "execution_count": 10,
   "id": "ecb57cc3",
   "metadata": {},
   "outputs": [],
   "source": [
    "accuracy = accuracy_score(y_test, y_pred)\n",
    "precision = precision_score(y_test, y_pred, average='weighted')  # Use appropriate average parameter\n",
    "recall = recall_score(y_test, y_pred, average='weighted')  # Use appropriate average parameter\n",
    "f1 = f1_score(y_test, y_pred, average='weighted') \n",
    "conf_matrix = confusion_matrix(y_test, y_pred)\n"
   ]
  },
  {
   "cell_type": "code",
   "execution_count": 11,
   "id": "573b2902",
   "metadata": {},
   "outputs": [
    {
     "name": "stdout",
     "output_type": "stream",
     "text": [
      "Accuracy: 0.996661101836394\n",
      "Precision: 0.9966971980327574\n",
      "Recall: 0.996661101836394\n",
      "F1 Score: 0.9966618276838207\n",
      "Confusion Matrix:\n",
      " [[398   4   0   0   0   0   0   0]\n",
      " [  0 366   0   0   0   0   0   0]\n",
      " [  0   0  95   0   0   0   0   0]\n",
      " [  0   0   0  60   0   0   0   0]\n",
      " [  0   0   0   0  67   0   0   0]\n",
      " [  0   0   0   0   0  78   0   0]\n",
      " [  0   0   0   0   0   0  66   0]\n",
      " [  0   0   0   0   0   0   0  64]]\n"
     ]
    }
   ],
   "source": [
    "print(\"Accuracy:\", accuracy)\n",
    "print(\"Precision:\", precision)\n",
    "print(\"Recall:\", recall)\n",
    "print(\"F1 Score:\", f1)\n",
    "print(\"Confusion Matrix:\\n\", conf_matrix)"
   ]
  },
  {
   "cell_type": "code",
   "execution_count": 14,
   "id": "d9a01d35",
   "metadata": {},
   "outputs": [
    {
     "name": "stdout",
     "output_type": "stream",
     "text": [
      "              precision    recall  f1-score   support\n",
      "\n",
      "           0       1.00      0.99      0.99       402\n",
      "           1       0.99      1.00      0.99       366\n",
      "           2       1.00      1.00      1.00        95\n",
      "           3       1.00      1.00      1.00        60\n",
      "           4       1.00      1.00      1.00        67\n",
      "           5       1.00      1.00      1.00        78\n",
      "           6       1.00      1.00      1.00        66\n",
      "           7       1.00      1.00      1.00        64\n",
      "\n",
      "    accuracy                           1.00      1198\n",
      "   macro avg       1.00      1.00      1.00      1198\n",
      "weighted avg       1.00      1.00      1.00      1198\n",
      "\n"
     ]
    }
   ],
   "source": [
    "print(classification_report(y_test, y_pred))"
   ]
  },
  {
   "cell_type": "code",
   "execution_count": null,
   "id": "a9ac5f8b",
   "metadata": {},
   "outputs": [],
   "source": []
  }
 ],
 "metadata": {
  "kernelspec": {
   "display_name": "Python 3 (ipykernel)",
   "language": "python",
   "name": "python3"
  },
  "language_info": {
   "codemirror_mode": {
    "name": "ipython",
    "version": 3
   },
   "file_extension": ".py",
   "mimetype": "text/x-python",
   "name": "python",
   "nbconvert_exporter": "python",
   "pygments_lexer": "ipython3",
   "version": "3.11.6"
  }
 },
 "nbformat": 4,
 "nbformat_minor": 5
}
